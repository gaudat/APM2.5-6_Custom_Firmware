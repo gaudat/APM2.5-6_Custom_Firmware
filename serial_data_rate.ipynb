{
 "cells": [
  {
   "cell_type": "code",
   "execution_count": 2,
   "id": "83ac1c3c",
   "metadata": {},
   "outputs": [],
   "source": [
    "import time\n",
    "import serial\n",
    "import struct\n",
    "import matplotlib.pyplot as plt\n",
    "import IPython"
   ]
  },
  {
   "cell_type": "code",
   "execution_count": 210,
   "id": "7986bff9",
   "metadata": {},
   "outputs": [],
   "source": [
    "port = serial.Serial(\"COM4\", 115200, timeout=1)"
   ]
  },
  {
   "cell_type": "code",
   "execution_count": 217,
   "id": "1acff2eb",
   "metadata": {},
   "outputs": [
    {
     "data": {
      "text/plain": [
       "b'\\x14OUTL\\x04\\xb0\\x04,\\x01\\x90\\x01\\xf4\\x01X\\x02\\xbc\\x02 \\x03\\x00'"
      ]
     },
     "execution_count": 217,
     "metadata": {},
     "output_type": "execute_result"
    }
   ],
   "source": [
    "buf = b\"OUT\"+struct.pack(\"<hhhhhhhh\", 1100,1200,300,400,500,600,700,800)\n",
    "#buf = b\"OUT\"+struct.pack(\"<h\", 1500)*8\n",
    "buf = bytes([len(buf)+1])+buf+b\"\\x00\"\n",
    "buf"
   ]
  },
  {
   "cell_type": "code",
   "execution_count": 218,
   "id": "15ed0e66",
   "metadata": {},
   "outputs": [
    {
     "data": {
      "text/plain": [
       "21"
      ]
     },
     "execution_count": 218,
     "metadata": {},
     "output_type": "execute_result"
    }
   ],
   "source": [
    "port.write(buf)"
   ]
  },
  {
   "cell_type": "code",
   "execution_count": 219,
   "id": "6e30e6ca",
   "metadata": {},
   "outputs": [
    {
     "name": "stdout",
     "output_type": "stream",
     "text": [
      "20 79 85 84 76 4 176 4 44 1 144 1 244 1 88 2 188 2 32 3 0 \r\n",
      "79 85 84 76 4 176 4 44 1 144 1 244 1 88 2 188 2 32 3 \r\n",
      "1100 1200 300 400 500 600 700 800 \r\n",
      "\n"
     ]
    }
   ],
   "source": [
    "print(port.read(4096).decode())"
   ]
  },
  {
   "cell_type": "code",
   "execution_count": 220,
   "id": "9965bbf5",
   "metadata": {},
   "outputs": [],
   "source": [
    "port.close()"
   ]
  },
  {
   "cell_type": "code",
   "execution_count": 50,
   "id": "bc50bc5e",
   "metadata": {},
   "outputs": [],
   "source": [
    "def cobs_decode(buf):\n",
    "    out = bytearray()\n",
    "    if len(buf) == 0:\n",
    "        return out\n",
    "    in_ptr = 0\n",
    "    while in_ptr < (len(buf) - 1):\n",
    "        out += b'\\x00'\n",
    "        frame_len = buf[in_ptr]\n",
    "        out += buf[in_ptr+1:][:frame_len-1]\n",
    "        in_ptr += frame_len\n",
    "    if buf[0] != 1:\n",
    "        out = out[1:]\n",
    "    return out"
   ]
  },
  {
   "cell_type": "code",
   "execution_count": 51,
   "id": "71a15ff9",
   "metadata": {},
   "outputs": [],
   "source": [
    "def get_packet():\n",
    "    buf = port.read_until(b'\\x00')\n",
    "    buf = cobs_decode(buf)\n",
    "    return buf"
   ]
  },
  {
   "cell_type": "code",
   "execution_count": 36,
   "id": "da081d37",
   "metadata": {},
   "outputs": [],
   "source": [
    "def get_imu_reading():\n",
    "    buf = port.read_until(b'\\x00')\n",
    "    buf = cobs_decode(buf)\n",
    "    if len(buf) != 12:\n",
    "        return None\n",
    "    imur = struct.unpack(\"<hhhhhh\", buf)\n",
    "    return imur"
   ]
  },
  {
   "cell_type": "code",
   "execution_count": 53,
   "id": "e0b9c36a",
   "metadata": {
    "scrolled": false
   },
   "outputs": [
    {
     "data": {
      "text/plain": [
       "280.2"
      ]
     },
     "execution_count": 53,
     "metadata": {},
     "output_type": "execute_result"
    }
   ],
   "source": [
    "def measure_rate(duration=5):\n",
    "    port.read(4096)\n",
    "    start = time.monotonic()\n",
    "    count = 0\n",
    "    while time.monotonic() - start < duration:\n",
    "        imur = get_imu_reading()\n",
    "        count += 1\n",
    "    return count / duration\n",
    "\n",
    "measure_rate()"
   ]
  },
  {
   "cell_type": "code",
   "execution_count": 89,
   "id": "0e9b862e",
   "metadata": {},
   "outputs": [
    {
     "name": "stdout",
     "output_type": "stream",
     "text": [
      "bytearray(b'IMU\\xb4\\x02\\xd0\\xef\\x8c4\\xbf\\xff\\xfb\\xff\\x07\\x00')\n",
      "bytearray(b'PPM\\x01\\x02\\xd0\\xef\\x8c\\xd6\\x05\\xd3\\x05{\\x03\\xd2\\x05\\t\\x06\\xd2\\x05')\n",
      "bytearray(b'IMU\\x98\\x02\\xd0\\xef\\x864\\xbd\\xff\\xfd\\xff\\x08\\x00')\n",
      "bytearray(b'PPM\\x01\\x02\\xd0\\xef\\x86\\xd6\\x05\\xd3\\x05{\\x03\\xd2\\x05\\t\\x06\\xd1\\x05')\n",
      "bytearray(b'IMU\\x9a\\x02\\xcc\\xefv4\\xbd\\xff\\xfb\\xff\\x06\\x00')\n",
      "bytearray(b'PPM\\x01\\x02\\xcc\\xefv\\xd6\\x05\\xd3\\x05{\\x03\\xd2\\x05\\t\\x06\\xd2\\x05')\n",
      "bytearray(b'IMU\\x9c\\x02\\xb0\\xeff4\\xbd\\xff\\xfe\\xff\\x07\\x00')\n",
      "bytearray(b'PPM\\x01\\x02\\xb0\\xeff\\xd6\\x05\\xd3\\x05{\\x03\\xd2\\x05\\t\\x06\\xd2\\x05')\n",
      "bytearray(b'IMU\\xbc\\x02\\xc4\\xef\\xa04\\xbe\\xff\\xfb\\xff\\x07\\x00')\n",
      "bytearray(b'PPM\\x01\\x02\\xc4\\xef\\xa0\\xd6\\x05\\xd3\\x05{\\x03\\xd2\\x05\\t\\x06\\xd2\\x05')\n"
     ]
    }
   ],
   "source": [
    "def loop():\n",
    "    port.read(4096)\n",
    "    count = 10\n",
    "    while count > 0:\n",
    "        print(get_packet())\n",
    "        count -= 1\n",
    "        \n",
    "loop()"
   ]
  },
  {
   "cell_type": "code",
   "execution_count": null,
   "id": "e849fa02",
   "metadata": {},
   "outputs": [],
   "source": []
  }
 ],
 "metadata": {
  "kernelspec": {
   "display_name": "Python 3",
   "language": "python",
   "name": "python3"
  },
  "language_info": {
   "codemirror_mode": {
    "name": "ipython",
    "version": 3
   },
   "file_extension": ".py",
   "mimetype": "text/x-python",
   "name": "python",
   "nbconvert_exporter": "python",
   "pygments_lexer": "ipython3",
   "version": "3.7.4"
  }
 },
 "nbformat": 4,
 "nbformat_minor": 5
}
