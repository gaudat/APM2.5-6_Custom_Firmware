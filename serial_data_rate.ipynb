{
 "cells": [
  {
   "cell_type": "code",
   "execution_count": 1,
   "id": "83ac1c3c",
   "metadata": {},
   "outputs": [],
   "source": [
    "import time\n",
    "import serial\n",
    "import struct\n",
    "import matplotlib.pyplot as plt\n",
    "import IPython\n",
    "import threading"
   ]
  },
  {
   "cell_type": "code",
   "execution_count": 2,
   "id": "1acff2eb",
   "metadata": {},
   "outputs": [],
   "source": [
    "def cobs_encode(buf):\n",
    "    if len(buf) == 0:\n",
    "        return b\"\\x00\"\n",
    "    if buf[0] != 0:\n",
    "        buf = b\"\\x00\" + buf\n",
    "        return cobs_encode(buf)\n",
    "    # buf[0] must be 0 here\n",
    "    assert buf[0] == 0\n",
    "    a, sep, b = buf[1:].partition(b\"\\x00\")\n",
    "    return bytes([len(a)+1])+a+cobs_encode(sep + b)"
   ]
  },
  {
   "cell_type": "code",
   "execution_count": 3,
   "id": "bc50bc5e",
   "metadata": {},
   "outputs": [],
   "source": [
    "def cobs_decode(buf):\n",
    "    if buf == b\"\":\n",
    "        return b\"\"\n",
    "    if buf == b\"\\x00\":\n",
    "        return b\"\"\n",
    "    out = bytearray(buf[0])\n",
    "    out[1:] = buf[1:len(out)]\n",
    "    return out + cobs_decode(buf[len(out):])"
   ]
  },
  {
   "cell_type": "code",
   "execution_count": 4,
   "id": "da081d37",
   "metadata": {},
   "outputs": [],
   "source": [
    "def get_imu_reading(buf):\n",
    "    if buf[:3] != \"IMU\":\n",
    "        return None\n",
    "    buf = buf[3:]\n",
    "    if len(buf) != 12:\n",
    "        return None\n",
    "    imur = struct.unpack(\"<hhhhhh\", buf)\n",
    "    return imur"
   ]
  },
  {
   "cell_type": "code",
   "execution_count": 5,
   "id": "15ed0e66",
   "metadata": {},
   "outputs": [],
   "source": [
    "class COBSSerial:\n",
    "    def __init__(self, port):\n",
    "        self.port = serial.Serial(None, 115200, timeout=1)\n",
    "        self.port.port = port\n",
    "        self.subscribers = {\n",
    "            \"IMU\": get_imu_reading,\n",
    "        }\n",
    "        self.port_lock = threading.RLock()\n",
    "        self.read_thread = None\n",
    "        self.stop = False\n",
    "    def begin(self):\n",
    "        self.port.open()\n",
    "        time.sleep(0.1)\n",
    "        with self.port_lock:\n",
    "            self.port.write(range(64)) # Get out of bootloader\n",
    "        if self.read_thread is None:\n",
    "            self.read_thread = threading.Thread(\n",
    "            target=self.read_thread_fun)\n",
    "        self.read_thread.start()\n",
    "    def end(self):\n",
    "        self.stop = True\n",
    "        self.read_thread.join()\n",
    "        self.read_thread = None\n",
    "        self.port.close()\n",
    "    def get_packet(self):\n",
    "        with self.port_lock:\n",
    "            buf = self.port.read_until(b'\\x00')\n",
    "        buf = cobs_decode(buf)\n",
    "        return buf[1:]\n",
    "    def read_thread_fun(self):\n",
    "        while not self.stop:\n",
    "            buf = self.get_packet()\n",
    "            tag = buf[:3].decode(\"cp437\")\n",
    "            if tag in self.subscribers:\n",
    "                if \"__iter__\" not in dir(self.subscribers[tag]):\n",
    "                    # Just call the function itself\n",
    "                    self.subscribers[tag](buf)\n",
    "                else:\n",
    "                    for f in self.subscribers[tag]:\n",
    "                        f(buf)\n",
    "    def write(self, tag, payload_bytes):\n",
    "        tag = tag.encode(\"cp437\")[:3]\n",
    "        payload = tag + payload_bytes\n",
    "        buf = cobs_encode(payload)\n",
    "        with self.port_lock:\n",
    "            self.port.write(buf)\n",
    "            self.port.flush()"
   ]
  },
  {
   "cell_type": "code",
   "execution_count": 6,
   "id": "26ba8b8d",
   "metadata": {},
   "outputs": [],
   "source": [
    "cs = COBSSerial(\"COM4\")\n",
    "cs.begin()\n",
    "start = time.monotonic()\n",
    "while time.monotonic() - start < 10:\n",
    "    cs.write(\"OUT\", struct.pack(\"<h\", int(1000+(time.monotonic() - start)*100))*8)\n",
    "    time.sleep(0.05)\n",
    "cs.end()"
   ]
  },
  {
   "cell_type": "code",
   "execution_count": null,
   "id": "e849fa02",
   "metadata": {},
   "outputs": [],
   "source": []
  }
 ],
 "metadata": {
  "kernelspec": {
   "display_name": "Python 3",
   "language": "python",
   "name": "python3"
  },
  "language_info": {
   "codemirror_mode": {
    "name": "ipython",
    "version": 3
   },
   "file_extension": ".py",
   "mimetype": "text/x-python",
   "name": "python",
   "nbconvert_exporter": "python",
   "pygments_lexer": "ipython3",
   "version": "3.7.4"
  }
 },
 "nbformat": 4,
 "nbformat_minor": 5
}
