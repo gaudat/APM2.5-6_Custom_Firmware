{
 "cells": [
  {
   "cell_type": "code",
   "execution_count": 1,
   "id": "83ac1c3c",
   "metadata": {},
   "outputs": [],
   "source": [
    "import time\n",
    "import serial"
   ]
  },
  {
   "cell_type": "code",
   "execution_count": 7,
   "id": "7986bff9",
   "metadata": {},
   "outputs": [],
   "source": [
    "port = serial.Serial(\"COM4\", 115200, timeout=1)"
   ]
  },
  {
   "cell_type": "code",
   "execution_count": 11,
   "id": "e0b9c36a",
   "metadata": {},
   "outputs": [
    {
     "data": {
      "text/plain": [
       "223.0"
      ]
     },
     "execution_count": 11,
     "metadata": {},
     "output_type": "execute_result"
    }
   ],
   "source": [
    "def measure_rate(duration=5):\n",
    "    port.flush()\n",
    "    start = time.monotonic()\n",
    "    count = 0\n",
    "    while time.monotonic() - start < duration:\n",
    "        port.read(8)\n",
    "        count += 1\n",
    "    return count / duration\n",
    "\n",
    "measure_rate()"
   ]
  },
  {
   "cell_type": "code",
   "execution_count": 6,
   "id": "9965bbf5",
   "metadata": {},
   "outputs": [],
   "source": [
    "port.close()"
   ]
  },
  {
   "cell_type": "code",
   "execution_count": null,
   "id": "8f9f8e50",
   "metadata": {},
   "outputs": [],
   "source": []
  }
 ],
 "metadata": {
  "kernelspec": {
   "display_name": "Python 3",
   "language": "python",
   "name": "python3"
  },
  "language_info": {
   "codemirror_mode": {
    "name": "ipython",
    "version": 3
   },
   "file_extension": ".py",
   "mimetype": "text/x-python",
   "name": "python",
   "nbconvert_exporter": "python",
   "pygments_lexer": "ipython3",
   "version": "3.7.4"
  }
 },
 "nbformat": 4,
 "nbformat_minor": 5
}
